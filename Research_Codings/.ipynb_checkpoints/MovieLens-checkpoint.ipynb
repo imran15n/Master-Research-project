{
 "cells": [
  {
   "cell_type": "markdown",
   "metadata": {},
   "source": [
    "# MovieLens Dataset Class"
   ]
  },
  {
   "cell_type": "markdown",
   "metadata": {},
   "source": [
    "## Importing Libraries"
   ]
  },
  {
   "cell_type": "code",
   "execution_count": 2,
   "metadata": {},
   "outputs": [],
   "source": [
    "import os\n",
    "import csv\n",
    "import sys\n",
    "import re\n",
    "from surprise import Dataset\n",
    "from surprise import Reader\n",
    "from collections import defaultdict"
   ]
  },
  {
   "cell_type": "markdown",
   "metadata": {},
   "source": [
    "## Initiating MovieLens Class and Defining Function"
   ]
  },
  {
   "cell_type": "code",
   "execution_count": 4,
   "metadata": {},
   "outputs": [],
   "source": [
    "class MovieLens:\n",
    "\n",
    "    movieID_to_name = {}\n",
    "    name_to_movieID = {}\n",
    "    ratingsPath = '../ml-latest-small/ratings.csv'\n",
    "    moviesPath = '../ml-latest-small/movies.csv'\n",
    "    \n",
    "    def loadMovieLensLatestSmall(self):\n",
    "\n",
    "        # Look for files relative to the directory we are running from\n",
    "        os.chdir(os.path.dirname(sys.argv[0]))\n",
    "\n",
    "        ratingsDataset = 0\n",
    "        self.movieID_to_name = {}\n",
    "        self.name_to_movieID = {}\n",
    "\n",
    "        reader = Reader(line_format='user item rating timestamp', sep=',', skip_lines=1)\n",
    "\n",
    "        ratingsDataset = Dataset.load_from_file(self.ratingsPath, reader=reader)\n",
    "\n",
    "        with open(self.moviesPath, newline='', encoding='ISO-8859-1') as csvfile:\n",
    "                movieReader = csv.reader(csvfile)\n",
    "                next(movieReader)  #Skip header line\n",
    "                for row in movieReader:\n",
    "                    movieID = int(row[0])\n",
    "                    movieName = row[1]\n",
    "                    self.movieID_to_name[movieID] = movieName\n",
    "                    self.name_to_movieID[movieName] = movieID\n",
    "\n",
    "        return ratingsDataset"
   ]
  },
  {
   "cell_type": "code",
   "execution_count": null,
   "metadata": {},
   "outputs": [],
   "source": []
  }
 ],
 "metadata": {
  "kernelspec": {
   "display_name": "Python 3",
   "language": "python",
   "name": "python3"
  },
  "language_info": {
   "codemirror_mode": {
    "name": "ipython",
    "version": 3
   },
   "file_extension": ".py",
   "mimetype": "text/x-python",
   "name": "python",
   "nbconvert_exporter": "python",
   "pygments_lexer": "ipython3",
   "version": "3.7.1"
  }
 },
 "nbformat": 4,
 "nbformat_minor": 2
}

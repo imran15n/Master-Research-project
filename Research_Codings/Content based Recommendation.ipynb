{
 "cells": [
  {
   "cell_type": "markdown",
   "metadata": {},
   "source": [
    "# Content based Recommender System Using KnnBaseline Algorithm"
   ]
  },
  {
   "cell_type": "code",
   "execution_count": 2,
   "metadata": {},
   "outputs": [
    {
     "data": {
      "text/plain": [
       "'\\nCreated on Sun July  5 11:46:44 2020\\n\\n@author: Muhammad Imran Shaikh\\n'"
      ]
     },
     "execution_count": 2,
     "metadata": {},
     "output_type": "execute_result"
    }
   ],
   "source": [
    "\"\"\"\n",
    "Created on Sun July  5 11:46:44 2020\n",
    "\n",
    "@author: Muhammad Imran Shaikh\n",
    "\"\"\""
   ]
  },
  {
   "cell_type": "markdown",
   "metadata": {},
   "source": [
    "## Importing libraries"
   ]
  },
  {
   "cell_type": "code",
   "execution_count": 27,
   "metadata": {},
   "outputs": [],
   "source": [
    "import io # Module for Python interfaces to stream handling\n",
    "import pandas as pd # pandas is a data manipulation library\n",
    "import numpy as np #provides numerical arrays and functions to manipulate the arrays\n",
    "from surprise.model_selection import LeaveOneOut # LeaveOneOut Cross Validator\n",
    "from surprise.model_selection import cross_validate #cross validation module in surprise lib\n",
    "from surprise import KNNBaseline # KNN baseline algorithm\n",
    "from surprise import Dataset\n",
    "from surprise import get_dataset_dir# Extracting dataset from folder directory\n",
    "from surprise.model_selection import train_test_split # Train and test split module in surprise library"
   ]
  },
  {
   "cell_type": "markdown",
   "metadata": {},
   "source": [
    "#### Read the u.item file from MovieLens dataset and return two mappings to convert raw ids into movie names and movie names into raw ids.\n",
    "    "
   ]
  },
  {
   "cell_type": "code",
   "execution_count": 28,
   "metadata": {},
   "outputs": [],
   "source": [
    "# A function created to read item names\n",
    "\n",
    "def read_item_names():\n",
    "    file_name = get_dataset_dir() + '/ml-100k/ml-100k/u.item'\n",
    "    rid_to_name = {}\n",
    "    name_to_rid = {}\n",
    "    with io.open(file_name, 'r', encoding='ISO-8859-1') as f:\n",
    "        for line in f:\n",
    "            line = line.split('|')\n",
    "            rid_to_name[line[0]] = line[1]\n",
    "            name_to_rid[line[1]] = line[0]\n",
    "\n",
    "    return rid_to_name, name_to_rid"
   ]
  },
  {
   "cell_type": "markdown",
   "metadata": {},
   "source": [
    "## Loading Data"
   ]
  },
  {
   "cell_type": "code",
   "execution_count": 29,
   "metadata": {},
   "outputs": [],
   "source": [
    "data = Dataset.load_builtin('ml-100k')\n",
    "trainset, testset = train_test_split(data, test_size=.25)"
   ]
  },
  {
   "cell_type": "markdown",
   "metadata": {},
   "source": [
    "## Using pearson_baseline as a simliarity measure in KnnBaseLine algorithm"
   ]
  },
  {
   "cell_type": "code",
   "execution_count": 30,
   "metadata": {},
   "outputs": [
    {
     "name": "stdout",
     "output_type": "stream",
     "text": [
      "Estimating biases using als...\n",
      "Computing the pearson_baseline similarity matrix...\n",
      "Done computing similarity matrix.\n"
     ]
    },
    {
     "data": {
      "text/plain": [
       "<surprise.prediction_algorithms.knns.KNNBaseline at 0x1b7fba06b70>"
      ]
     },
     "execution_count": 30,
     "metadata": {},
     "output_type": "execute_result"
    }
   ],
   "source": [
    "sim_options = {'name': 'pearson_baseline', 'user_based': False}\n",
    "algo = KNNBaseline(k=30 ,sim_options=sim_options)\n",
    "algo.fit(trainset)"
   ]
  },
  {
   "cell_type": "code",
   "execution_count": 31,
   "metadata": {},
   "outputs": [],
   "source": [
    "# Read the mappings raw id into movie name\n",
    "rid_to_name, name_to_rid = read_item_names()"
   ]
  },
  {
   "cell_type": "code",
   "execution_count": 41,
   "metadata": {},
   "outputs": [],
   "source": [
    "# Fetching inner id of the movie\n",
    "# Multiple movies to select and check the top 10 nearest movies results (Forrest Gump (1994), Braveheart (1995),Toy Story (1995),Clockwork Orange, A (1971))\n",
    "\n",
    "movie_raw_id = name_to_rid['Braveheart (1995)'] # Change movies names to get content based results at the output\n",
    "movie_inner_id = algo.trainset.to_inner_iid(movie_raw_id)\n",
    "movie_neighbors = algo.get_neighbors(movie_inner_id, k=10)\n",
    "\n",
    "# Convert inner ids of the neighbors into names.\n",
    "movie_neighbors = (algo.trainset.to_raw_iid(inner_id)\n",
    "                   for inner_id in movie_neighbors)\n",
    "movie_neighbors = (rid_to_name[rid]\n",
    "                   for rid in movie_neighbors)"
   ]
  },
  {
   "cell_type": "markdown",
   "metadata": {},
   "source": [
    "# Output"
   ]
  },
  {
   "cell_type": "code",
   "execution_count": 42,
   "metadata": {},
   "outputs": [
    {
     "name": "stdout",
     "output_type": "stream",
     "text": [
      "\n",
      "The 10 nearest neighbors of Braveheart (1995) are:\n",
      "Apollo 13 (1995)\n",
      "Raiders of the Lost Ark (1981)\n",
      "Shawshank Redemption, The (1994)\n",
      "Return of the Jedi (1983)\n",
      "Titanic (1997)\n",
      "Forrest Gump (1994)\n",
      "E.T. the Extra-Terrestrial (1982)\n",
      "While You Were Sleeping (1995)\n",
      "Hunt for Red October, The (1990)\n",
      "Miracle on 34th Street (1994)\n"
     ]
    }
   ],
   "source": [
    "print()\n",
    "print('The 10 nearest neighbors of {} are:'.format(rid_to_name[movie_raw_id]))\n",
    "for movie in movie_neighbors:\n",
    "    print(movie)"
   ]
  },
  {
   "cell_type": "markdown",
   "metadata": {},
   "source": [
    "# Run 5-fold cross-validation and print results"
   ]
  },
  {
   "cell_type": "code",
   "execution_count": 24,
   "metadata": {},
   "outputs": [
    {
     "name": "stdout",
     "output_type": "stream",
     "text": [
      "Estimating biases using als...\n",
      "Computing the pearson_baseline similarity matrix...\n",
      "Done computing similarity matrix.\n",
      "Estimating biases using als...\n",
      "Computing the pearson_baseline similarity matrix...\n",
      "Done computing similarity matrix.\n",
      "Estimating biases using als...\n",
      "Computing the pearson_baseline similarity matrix...\n",
      "Done computing similarity matrix.\n",
      "Estimating biases using als...\n",
      "Computing the pearson_baseline similarity matrix...\n",
      "Done computing similarity matrix.\n",
      "Estimating biases using als...\n",
      "Computing the pearson_baseline similarity matrix...\n",
      "Done computing similarity matrix.\n",
      "Evaluating RMSE, MAE of algorithm KNNBaseline on 5 split(s).\n",
      "\n",
      "                  Fold 1  Fold 2  Fold 3  Fold 4  Fold 5  Mean    Std     \n",
      "RMSE (testset)    0.9155  0.9126  0.9190  0.9215  0.9173  0.9172  0.0030  \n",
      "MAE (testset)     0.7183  0.7187  0.7181  0.7221  0.7174  0.7189  0.0017  \n",
      "Fit time          3.58    3.51    3.69    3.70    3.80    3.66    0.10    \n",
      "Test time         5.70    5.66    5.44    5.35    5.16    5.46    0.20    \n"
     ]
    }
   ],
   "source": [
    "vali = cross_validate(algo, data, measures=['RMSE', 'MAE'], cv=5, verbose=True)"
   ]
  },
  {
   "cell_type": "markdown",
   "metadata": {},
   "source": [
    "# Converting our Cross-Validation results in DataFrame"
   ]
  },
  {
   "cell_type": "code",
   "execution_count": 25,
   "metadata": {},
   "outputs": [],
   "source": [
    "df=pd.DataFrame(vali)\n",
    "df_new = df.rename(index={0: 'Fold 1', 1: 'Fold 2', 2: 'Fold 3', 3: 'Fold 4', 4: 'Fold 5'})\n",
    "df_new = df_new.transpose()"
   ]
  },
  {
   "cell_type": "code",
   "execution_count": 26,
   "metadata": {},
   "outputs": [
    {
     "data": {
      "text/html": [
       "<div>\n",
       "<style scoped>\n",
       "    .dataframe tbody tr th:only-of-type {\n",
       "        vertical-align: middle;\n",
       "    }\n",
       "\n",
       "    .dataframe tbody tr th {\n",
       "        vertical-align: top;\n",
       "    }\n",
       "\n",
       "    .dataframe thead th {\n",
       "        text-align: right;\n",
       "    }\n",
       "</style>\n",
       "<table border=\"1\" class=\"dataframe\">\n",
       "  <thead>\n",
       "    <tr style=\"text-align: right;\">\n",
       "      <th></th>\n",
       "      <th>Fold 1</th>\n",
       "      <th>Fold 2</th>\n",
       "      <th>Fold 3</th>\n",
       "      <th>Fold 4</th>\n",
       "      <th>Fold 5</th>\n",
       "      <th>mean</th>\n",
       "      <th>std</th>\n",
       "    </tr>\n",
       "  </thead>\n",
       "  <tbody>\n",
       "    <tr>\n",
       "      <th>test_rmse</th>\n",
       "      <td>0.915529</td>\n",
       "      <td>0.912617</td>\n",
       "      <td>0.919035</td>\n",
       "      <td>0.921451</td>\n",
       "      <td>0.917292</td>\n",
       "      <td>0.917185</td>\n",
       "      <td>0.003008</td>\n",
       "    </tr>\n",
       "    <tr>\n",
       "      <th>test_mae</th>\n",
       "      <td>0.718273</td>\n",
       "      <td>0.718730</td>\n",
       "      <td>0.718140</td>\n",
       "      <td>0.722125</td>\n",
       "      <td>0.717393</td>\n",
       "      <td>0.718932</td>\n",
       "      <td>0.001653</td>\n",
       "    </tr>\n",
       "    <tr>\n",
       "      <th>fit_time</th>\n",
       "      <td>3.576786</td>\n",
       "      <td>3.507827</td>\n",
       "      <td>3.690716</td>\n",
       "      <td>3.699712</td>\n",
       "      <td>3.803644</td>\n",
       "      <td>3.655737</td>\n",
       "      <td>0.103096</td>\n",
       "    </tr>\n",
       "    <tr>\n",
       "      <th>test_time</th>\n",
       "      <td>5.697473</td>\n",
       "      <td>5.656499</td>\n",
       "      <td>5.440631</td>\n",
       "      <td>5.349687</td>\n",
       "      <td>5.164804</td>\n",
       "      <td>5.461819</td>\n",
       "      <td>0.197318</td>\n",
       "    </tr>\n",
       "  </tbody>\n",
       "</table>\n",
       "</div>"
      ],
      "text/plain": [
       "             Fold 1    Fold 2    Fold 3    Fold 4    Fold 5      mean  \\\n",
       "test_rmse  0.915529  0.912617  0.919035  0.921451  0.917292  0.917185   \n",
       "test_mae   0.718273  0.718730  0.718140  0.722125  0.717393  0.718932   \n",
       "fit_time   3.576786  3.507827  3.690716  3.699712  3.803644  3.655737   \n",
       "test_time  5.697473  5.656499  5.440631  5.349687  5.164804  5.461819   \n",
       "\n",
       "                std  \n",
       "test_rmse  0.003008  \n",
       "test_mae   0.001653  \n",
       "fit_time   0.103096  \n",
       "test_time  0.197318  "
      ]
     },
     "execution_count": 26,
     "metadata": {},
     "output_type": "execute_result"
    }
   ],
   "source": [
    "df_new['mean'] = df_new.mean(axis=1)\n",
    "df_new['std'] = df_new.std(axis=1)\n",
    "df_new"
   ]
  },
  {
   "cell_type": "code",
   "execution_count": null,
   "metadata": {},
   "outputs": [],
   "source": []
  }
 ],
 "metadata": {
  "kernelspec": {
   "display_name": "Python 3",
   "language": "python",
   "name": "python3"
  },
  "language_info": {
   "codemirror_mode": {
    "name": "ipython",
    "version": 3
   },
   "file_extension": ".py",
   "mimetype": "text/x-python",
   "name": "python",
   "nbconvert_exporter": "python",
   "pygments_lexer": "ipython3",
   "version": "3.7.1"
  }
 },
 "nbformat": 4,
 "nbformat_minor": 2
}
